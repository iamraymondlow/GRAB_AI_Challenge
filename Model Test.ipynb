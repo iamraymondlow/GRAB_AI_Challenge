{
 "cells": [
  {
   "cell_type": "markdown",
   "metadata": {},
   "source": [
    "# Import packages"
   ]
  },
  {
   "cell_type": "code",
   "execution_count": 1,
   "metadata": {},
   "outputs": [],
   "source": [
    "import pandas as pd\n",
    "import matplotlib.pyplot as plt\n",
    "import seaborn as sns\n",
    "from tqdm import tqdm\n",
    "import pickle\n",
    "from statistics import mean"
   ]
  },
  {
   "cell_type": "markdown",
   "metadata": {},
   "source": [
    "# Import test data"
   ]
  },
  {
   "cell_type": "code",
   "execution_count": null,
   "metadata": {},
   "outputs": [],
   "source": [
    "# Provide the file name of the test file\n",
    "test_data = pd.read_csv('validation.csv')"
   ]
  },
  {
   "cell_type": "code",
   "execution_count": null,
   "metadata": {},
   "outputs": [],
   "source": [
    "test_data.head()"
   ]
  },
  {
   "cell_type": "markdown",
   "metadata": {},
   "source": [
    "# Load data and model objects"
   ]
  },
  {
   "cell_type": "code",
   "execution_count": null,
   "metadata": {},
   "outputs": [],
   "source": [
    "with open('data_objects.pkl', 'rb') as input_file:\n",
    "    data_list = pickle.load(input_file)"
   ]
  },
  {
   "cell_type": "code",
   "execution_count": null,
   "metadata": {},
   "outputs": [],
   "source": [
    "with open('model_objects.pkl', 'rb') as input_file:\n",
    "    model_list = pickle.load(input_file)"
   ]
  },
  {
   "cell_type": "code",
   "execution_count": null,
   "metadata": {},
   "outputs": [],
   "source": [
    "with open('geohash_list.pkl', 'rb') as output_file:\n",
    "    geohash_list = pickle.load(output_file)"
   ]
  },
  {
   "cell_type": "markdown",
   "metadata": {},
   "source": [
    "# Data segmentation based on geolocation"
   ]
  },
  {
   "cell_type": "code",
   "execution_count": null,
   "metadata": {},
   "outputs": [],
   "source": [
    "test_geohash_list = list(test_data.groupby('geohash').groups.keys())\n",
    "test_gb = test_data.groupby('geohash')\n",
    "test_mse_list = []\n",
    "\n",
    "for i in tqdm(range(len(test_geohash_list))):\n",
    "    try:\n",
    "        index = geohash_list.index(test_geohash_list[i])\n",
    "        print(test_geohash_list[i])\n",
    "        print(index)\n",
    "        print(geohash_list[index])\n",
    "        test_data_segment = test_gb.get_group(test_geohash_list[i])\n",
    "        data_list[index].set_test_data(test_data_segment)\n",
    "        test_mse = model_list[index].test_model()\n",
    "        test_mse_list.append(test_mse)\n",
    "        print('Test MSE for {}: {}'.format(test_geohash_list[i], test_mse))\n",
    "        \n",
    "    except ValueError:\n",
    "        print('{} is not included in the training data.'.format(test_geohash_list[i]))\n",
    "        pass"
   ]
  },
  {
   "cell_type": "markdown",
   "metadata": {},
   "source": [
    "# Report test MSE results"
   ]
  },
  {
   "cell_type": "code",
   "execution_count": null,
   "metadata": {},
   "outputs": [],
   "source": [
    "sns.boxplot(y=test_mse_list)\n",
    "plt.ylabel('Test MSE')\n",
    "plt.title('Average Test MSE: {}'.format(mean(test_mse_list)))"
   ]
  }
 ],
 "metadata": {
  "kernelspec": {
   "display_name": "Python 3",
   "language": "python",
   "name": "python3"
  },
  "language_info": {
   "codemirror_mode": {
    "name": "ipython",
    "version": 3
   },
   "file_extension": ".py",
   "mimetype": "text/x-python",
   "name": "python",
   "nbconvert_exporter": "python",
   "pygments_lexer": "ipython3",
   "version": "3.6.8"
  }
 },
 "nbformat": 4,
 "nbformat_minor": 2
}
